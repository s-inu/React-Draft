{
 "cells": [
  {
   "cell_type": "code",
   "execution_count": 1,
   "metadata": {},
   "outputs": [],
   "source": [
    "import { Amplify } from \"aws-amplify\";\n",
    "import awsConfig from \"../aws-exports.js\";\n",
    "\n",
    "Amplify.configure(awsConfig);\n"
   ]
  },
  {
   "cell_type": "code",
   "execution_count": 2,
   "metadata": {},
   "outputs": [],
   "source": [
    "const USERNAME = \"sam@unretire.io\";\n",
    "const PASSWORD = \"password\";\n"
   ]
  },
  {
   "cell_type": "code",
   "execution_count": 3,
   "metadata": {},
   "outputs": [
    {
     "data": {
      "text/plain": [
       "{\n",
       "  isSignUpComplete: \u001b[33mfalse\u001b[39m,\n",
       "  nextStep: {\n",
       "    signUpStep: \u001b[32m\"CONFIRM_SIGN_UP\"\u001b[39m,\n",
       "    codeDeliveryDetails: {\n",
       "      destination: \u001b[32m\"s***@u***\"\u001b[39m,\n",
       "      deliveryMedium: \u001b[32m\"EMAIL\"\u001b[39m,\n",
       "      attributeName: \u001b[32m\"email\"\u001b[39m\n",
       "    }\n",
       "  },\n",
       "  userId: \u001b[32m\"b4788418-60e1-70cb-7ab0-b52e562772fd\"\u001b[39m\n",
       "}"
      ]
     },
     "execution_count": 3,
     "metadata": {},
     "output_type": "execute_result"
    }
   ],
   "source": [
    "import { signUp } from \"aws-amplify/auth\";\n",
    "await signUp({\n",
    "  username: USERNAME,\n",
    "  password: PASSWORD,\n",
    "  options: { autoSignIn: true },\n",
    "});\n"
   ]
  },
  {
   "cell_type": "code",
   "execution_count": 3,
   "metadata": {},
   "outputs": [
    {
     "data": {
      "text/plain": [
       "{ isSignUpComplete: \u001b[33mtrue\u001b[39m, nextStep: { signUpStep: \u001b[32m\"DONE\"\u001b[39m } }"
      ]
     },
     "execution_count": 3,
     "metadata": {},
     "output_type": "execute_result"
    }
   ],
   "source": [
    "import { confirmSignUp } from \"aws-amplify/auth\";\n",
    "const CONFIRMATION_CODE = \"656686\";\n",
    "await confirmSignUp({\n",
    "  username: USERNAME,\n",
    "  confirmationCode: CONFIRMATION_CODE,\n",
    "});\n"
   ]
  },
  {
   "cell_type": "code",
   "execution_count": 7,
   "metadata": {},
   "outputs": [
    {
     "data": {
      "text/plain": [
       "{ isSignedIn: \u001b[33mtrue\u001b[39m, nextStep: { signInStep: \u001b[32m\"DONE\"\u001b[39m } }"
      ]
     },
     "execution_count": 7,
     "metadata": {},
     "output_type": "execute_result"
    }
   ],
   "source": [
    "import {autoSignIn} from \"aws-amplify/auth\";\n",
    "await autoSignIn();"
   ]
  },
  {
   "cell_type": "code",
   "execution_count": 8,
   "metadata": {},
   "outputs": [
    {
     "data": {
      "text/plain": [
       "{\n",
       "  username: \u001b[32m\"24584438-1081-70fb-1b0a-d331b2d068f6\"\u001b[39m,\n",
       "  userId: \u001b[32m\"24584438-1081-70fb-1b0a-d331b2d068f6\"\u001b[39m,\n",
       "  signInDetails: { loginId: \u001b[32m\"sam@unretire.io\"\u001b[39m, authFlowType: \u001b[32m\"USER_SRP_AUTH\"\u001b[39m }\n",
       "}"
      ]
     },
     "execution_count": 8,
     "metadata": {},
     "output_type": "execute_result"
    }
   ],
   "source": [
    "import { getCurrentUser } from \"aws-amplify/auth\";\n",
    "await getCurrentUser();\n"
   ]
  },
  {
   "cell_type": "code",
   "execution_count": 1,
   "metadata": {},
   "outputs": [
    {
     "data": {
      "text/plain": [
       "{\n",
       "  tokens: \u001b[90mundefined\u001b[39m,\n",
       "  credentials: \u001b[90mundefined\u001b[39m,\n",
       "  identityId: \u001b[90mundefined\u001b[39m,\n",
       "  userSub: \u001b[90mundefined\u001b[39m\n",
       "}"
      ]
     },
     "execution_count": 1,
     "metadata": {},
     "output_type": "execute_result"
    }
   ],
   "source": [
    "import { fetchAuthSession } from \"aws-amplify/auth\";\n",
    "await fetchAuthSession();\n"
   ]
  },
  {
   "cell_type": "code",
   "execution_count": null,
   "metadata": {},
   "outputs": [],
   "source": []
  }
 ],
 "metadata": {
  "kernelspec": {
   "display_name": "Deno",
   "language": "typescript",
   "name": "deno"
  },
  "language_info": {
   "codemirror_mode": "typescript",
   "file_extension": ".ts",
   "mimetype": "text/x.typescript",
   "name": "typescript",
   "nbconvert_exporter": "script",
   "pygments_lexer": "typescript",
   "version": "5.6.2"
  }
 },
 "nbformat": 4,
 "nbformat_minor": 2
}
